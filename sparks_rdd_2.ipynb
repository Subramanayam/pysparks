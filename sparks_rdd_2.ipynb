{
 "cells": [
  {
   "cell_type": "code",
   "execution_count": 1,
   "id": "b75f69f9",
   "metadata": {},
   "outputs": [],
   "source": [
    "from pyspark.sql import SparkSession\n",
    "import getpass\n",
    "username = getpass.getuser()\n",
    "spark = SparkSession. \\\n",
    "        builder. \\\n",
    "        config('spark.ui.port','0'). \\\n",
    "        config(\"spark.sql.warehouse.dir\", f\"/user/itv013286/warehouse\"). \\\n",
    "        enableHiveSupport(). \\\n",
    "        master('yarn'). \\\n",
    "        getOrCreate()"
   ]
  },
  {
   "cell_type": "code",
   "execution_count": 2,
   "id": "ef75e092",
   "metadata": {},
   "outputs": [
    {
     "data": {
      "text/html": [
       "\n",
       "            <div>\n",
       "                <p><b>SparkSession - hive</b></p>\n",
       "                \n",
       "        <div>\n",
       "            <p><b>SparkContext</b></p>\n",
       "\n",
       "            <p><a href=\"http://g01.itversity.com:35249\">Spark UI</a></p>\n",
       "\n",
       "            <dl>\n",
       "              <dt>Version</dt>\n",
       "                <dd><code>v3.1.2</code></dd>\n",
       "              <dt>Master</dt>\n",
       "                <dd><code>yarn</code></dd>\n",
       "              <dt>AppName</dt>\n",
       "                <dd><code>pyspark-shell</code></dd>\n",
       "            </dl>\n",
       "        </div>\n",
       "        \n",
       "            </div>\n",
       "        "
      ],
      "text/plain": [
       "<pyspark.sql.session.SparkSession at 0x7f75f3cef668>"
      ]
     },
     "execution_count": 2,
     "metadata": {},
     "output_type": "execute_result"
    }
   ],
   "source": [
    "spark"
   ]
  },
  {
   "cell_type": "markdown",
   "id": "d865d6d1",
   "metadata": {},
   "source": [
    "Consider the Covid19 Dataset"
   ]
  },
  {
   "cell_type": "markdown",
   "id": "21ea84c9",
   "metadata": {},
   "source": [
    "Cases\n",
    "=====\n",
    "date,state,positive,negative,pending,hospitalizedCurrently,hospitalizedCumulative,inIcuCurrently,inIcuCumulative,onVentilatorCurrently,onVentilatorCumulative,recovered,dataQualityGrade,lastUpdateEt,dateModified,checkTimeEt,death,hospitalized,dateChecked,totalTestsViral,positiveTestsViral,negativeTestsViral,positiveCasesViral,deathConfirmed,deathProbable,fips,positiveIncrease,negativeIncrease,total,totalTestResults,totalTestResultsIncrease,posNeg,deathIncrease,hospitalizedIncrease,hash,commercialScore,negativeRegularScore,negativeScore,positiveScore,score,grade\n",
    "\n",
    "States\n",
    "=====\n",
    "state,notes,covid19Site,covid19SiteSecondary,covid19SiteTertiary,twitter,covid19SiteOld,name,fips,pui,pum\n",
    "\n",
    "#### 1.Find the top10 states with the highest no.of positive cases.\n"
   ]
  },
  {
   "cell_type": "code",
   "execution_count": 3,
   "id": "6d426855",
   "metadata": {},
   "outputs": [],
   "source": [
    "rdd = spark.sparkContext.textFile(\"/public/trendytech/covid19/cases/covid_dataset_cases.csv\")\n"
   ]
  },
  {
   "cell_type": "code",
   "execution_count": 4,
   "id": "176aae42",
   "metadata": {},
   "outputs": [
    {
     "data": {
      "text/plain": [
       "['20200122,AP,2,0,48,26,15,18,2,38,10,34,B,18,19/05/2022,23,24,29,34,19,45,5,44,42,49,53,0,0,2,2,0,2,0,0,8f8db794931706272489cddd51e917a4a69c8c9b,0,0,0,0,0',\n",
       " '20200123,AP,2,0,48,41,2,20,30,40,5,50,B,1,08/11/2022,14,7,33,36,14,18,36,37,45,8,53,0,0,2,2,0,2,0,0,e16af2a6a8f060355ff5ba499a28309a262c0b1e,0,0,0,0,0',\n",
       " '20200124,HP,2,0,16,14,5,29,43,22,11,11,D,31,17/05/2022,10,37,11,25,45,25,2,32,30,41,53,0,0,2,2,0,2,0,0,094154f68e74bfc30b977cdee888f9c07be4360e,0,0,0,0,0',\n",
       " '20200125,HP,2,0,10,13,41,50,26,19,34,8,D,40,07/10/2022,32,5,33,9,50,31,18,38,7,16,53,0,0,2,2,0,2,0,0,9b52ca94dd2a996822542ea5f17a7363e7ad91cf,0,0,0,0,0',\n",
       " '20200126,AS,2,0,15,43,23,45,20,46,15,30,D,31,28/12/2022,22,14,1,29,2,24,15,12,9,10,53,0,0,2,2,0,2,0,0,7acb526e14f20a29cc74a0b32a37328bc6eac6c2,0,0,0,0,0',\n",
       " '20200127,HR,2,0,31,46,24,46,41,32,39,20,C,25,06/10/2022,32,16,9,21,14,40,14,49,32,49,53,0,0,2,2,0,2,0,0,90960ca688f971a0b7e4dc14b893f9c5d76d2bb6,0,0,0,0,0',\n",
       " '20200128,KA,2,0,35,1,17,33,46,4,29,30,C,10,12/02/2022,48,11,6,28,1,29,13,31,26,30,53,0,0,2,2,0,2,0,0,20254bdabc8675b38058a214a8384cebe608d603,0,0,0,0,0',\n",
       " '20200129,KA,3,0,41,46,30,44,4,22,16,13,B,13,08/01/2022,23,15,14,27,34,16,1,14,31,17,53,1,0,3,3,1,3,0,0,89507995fd238755127a11dd8920a5157635d39a,0,0,0,0,0',\n",
       " '20200130,WA,3,0,39,3,21,23,10,19,3,50,C,19,16/07/2022,3,47,5,15,1,12,37,31,5,7,53,0,0,3,3,0,3,0,0,e47ae0f04e78096495684d80ad96563506239641,0,0,0,0,0',\n",
       " '20200131,WA,3,0,41,42,11,41,31,36,35,1,B,42,06/04/2022,38,17,8,40,45,27,36,36,17,34,53,0,0,3,3,0,3,0,0,912846e1b60bc1799b7cbbbb36442842698c4731,0,0,0,0,0']"
      ]
     },
     "execution_count": 4,
     "metadata": {},
     "output_type": "execute_result"
    }
   ],
   "source": [
    "rdd.take(10)"
   ]
  },
  {
   "cell_type": "code",
   "execution_count": 5,
   "id": "e56952e3",
   "metadata": {},
   "outputs": [],
   "source": [
    "map_rdd = rdd.map(lambda x : (x.split(\",\")[1],(int(x.split(\",\")[2]))))"
   ]
  },
  {
   "cell_type": "code",
   "execution_count": 6,
   "id": "2fa4f0e3",
   "metadata": {},
   "outputs": [
    {
     "data": {
      "text/plain": [
       "[('AP', 2),\n",
       " ('AP', 2),\n",
       " ('HP', 2),\n",
       " ('HP', 2),\n",
       " ('AS', 2),\n",
       " ('HR', 2),\n",
       " ('KA', 2),\n",
       " ('KA', 3),\n",
       " ('WA', 3),\n",
       " ('WA', 3)]"
      ]
     },
     "execution_count": 6,
     "metadata": {},
     "output_type": "execute_result"
    }
   ],
   "source": [
    "map_rdd.take(10)"
   ]
  },
  {
   "cell_type": "code",
   "execution_count": 7,
   "id": "9e35f6a6",
   "metadata": {},
   "outputs": [],
   "source": [
    "reduced_rdd = map_rdd.reduceByKey(lambda x,y : x+y).sortBy(lambda x : x[1], ascending = False)"
   ]
  },
  {
   "cell_type": "code",
   "execution_count": 8,
   "id": "9a4d6970",
   "metadata": {},
   "outputs": [
    {
     "data": {
      "text/plain": [
       "[('WA', 1701),\n",
       " ('GA', 1017),\n",
       " ('MH', 730),\n",
       " ('MI', 61),\n",
       " ('CA', 53),\n",
       " ('GJ', 35),\n",
       " ('BR', 23),\n",
       " ('JH', 13),\n",
       " ('CG', 8),\n",
       " ('RI', 6)]"
      ]
     },
     "execution_count": 8,
     "metadata": {},
     "output_type": "execute_result"
    }
   ],
   "source": [
    "reduced_rdd.take(10)"
   ]
  },
  {
   "cell_type": "markdown",
   "id": "34d9c612",
   "metadata": {},
   "source": [
    "#### 2.Find the total count of people in ICU currently"
   ]
  },
  {
   "cell_type": "code",
   "execution_count": 17,
   "id": "eeba22e1",
   "metadata": {},
   "outputs": [],
   "source": [
    "map_rdd = rdd.map(lambda x : int(x.split(\",\")[7]))"
   ]
  },
  {
   "cell_type": "code",
   "execution_count": 18,
   "id": "19424ebd",
   "metadata": {},
   "outputs": [
    {
     "data": {
      "text/plain": [
       "[18, 20, 29, 50, 45, 46, 33, 44, 23, 41]"
      ]
     },
     "execution_count": 18,
     "metadata": {},
     "output_type": "execute_result"
    }
   ],
   "source": [
    "map_rdd.take(10)"
   ]
  },
  {
   "cell_type": "code",
   "execution_count": 19,
   "id": "7b6f7ce0",
   "metadata": {},
   "outputs": [
    {
     "data": {
      "text/plain": [
       "1344"
      ]
     },
     "execution_count": 19,
     "metadata": {},
     "output_type": "execute_result"
    }
   ],
   "source": [
    "map_rdd.reduce(lambda x,y: x+y)"
   ]
  },
  {
   "cell_type": "markdown",
   "id": "837d8f50",
   "metadata": {},
   "source": [
    "#### 3.Find the top15 States having maximum no. of recovery"
   ]
  },
  {
   "cell_type": "code",
   "execution_count": 27,
   "id": "13b4691d",
   "metadata": {},
   "outputs": [],
   "source": [
    "map_rdd1 = rdd.map(lambda x: (x.split(\",\")[1],(int(x.split(\",\")[11])))).reduceByKey(lambda x,y:x+y)"
   ]
  },
  {
   "cell_type": "code",
   "execution_count": 31,
   "id": "6046c093",
   "metadata": {},
   "outputs": [],
   "source": [
    "sorted_rdd = map_rdd1.sortBy(lambda x: x[1],ascending = False)"
   ]
  },
  {
   "cell_type": "code",
   "execution_count": 32,
   "id": "bdb26432",
   "metadata": {},
   "outputs": [
    {
     "data": {
      "text/plain": [
       "[('WA', 451),\n",
       " ('MH', 165),\n",
       " ('MI', 101),\n",
       " ('GA', 87),\n",
       " ('AP', 84),\n",
       " ('RI', 72),\n",
       " ('BR', 68),\n",
       " ('JH', 50),\n",
       " ('KA', 43),\n",
       " ('AZ', 38),\n",
       " ('AS', 30),\n",
       " ('GJ', 27),\n",
       " ('CA', 23),\n",
       " ('HR', 20),\n",
       " ('HP', 19)]"
      ]
     },
     "execution_count": 32,
     "metadata": {},
     "output_type": "execute_result"
    }
   ],
   "source": [
    "sorted_rdd.take(15)"
   ]
  },
  {
   "cell_type": "markdown",
   "id": "93122d35",
   "metadata": {},
   "source": [
    "#### 4.Find the top 3 States having least no.of deaths"
   ]
  },
  {
   "cell_type": "code",
   "execution_count": 34,
   "id": "59bf65ef",
   "metadata": {},
   "outputs": [],
   "source": [
    "map_rdd = rdd.map(lambda x : (x.split(\",\")[1],int(x.split(\",\")[23])))"
   ]
  },
  {
   "cell_type": "code",
   "execution_count": 35,
   "id": "727dc795",
   "metadata": {},
   "outputs": [
    {
     "data": {
      "text/plain": [
       "[('AP', 42),\n",
       " ('AP', 45),\n",
       " ('HP', 30),\n",
       " ('HP', 7),\n",
       " ('AS', 9),\n",
       " ('HR', 32),\n",
       " ('KA', 26),\n",
       " ('KA', 31),\n",
       " ('WA', 5),\n",
       " ('WA', 17)]"
      ]
     },
     "execution_count": 35,
     "metadata": {},
     "output_type": "execute_result"
    }
   ],
   "source": [
    "map_rdd.take(10)"
   ]
  },
  {
   "cell_type": "code",
   "execution_count": 36,
   "id": "31e0f9f2",
   "metadata": {},
   "outputs": [],
   "source": [
    "result = map_rdd.reduceByKey(lambda x,y : x+y).sortBy(lambda x: x[1])"
   ]
  },
  {
   "cell_type": "code",
   "execution_count": 37,
   "id": "91b65065",
   "metadata": {},
   "outputs": [
    {
     "data": {
      "text/plain": [
       "[('AS', 9), ('JH', 10), ('CG', 31), ('HR', 32), ('HP', 37)]"
      ]
     },
     "execution_count": 37,
     "metadata": {},
     "output_type": "execute_result"
    }
   ],
   "source": [
    "result.take(5)"
   ]
  },
  {
   "cell_type": "markdown",
   "id": "7d181842",
   "metadata": {},
   "source": [
    "#### 5.Find the total number of people hospitalized currently."
   ]
  },
  {
   "cell_type": "code",
   "execution_count": 38,
   "id": "5e811270",
   "metadata": {},
   "outputs": [],
   "source": [
    "map_rdd = rdd.map(lambda x :int(x.split(\",\")[5]))"
   ]
  },
  {
   "cell_type": "code",
   "execution_count": 39,
   "id": "54a31b07",
   "metadata": {},
   "outputs": [
    {
     "data": {
      "text/plain": [
       "1319"
      ]
     },
     "execution_count": 39,
     "metadata": {},
     "output_type": "execute_result"
    }
   ],
   "source": [
    "map_rdd.reduce(lambda x,y :x+y)"
   ]
  },
  {
   "cell_type": "markdown",
   "id": "66af4ae6",
   "metadata": {},
   "source": [
    "#### 6.List the twitter handle and fipscode for the top15 states with the highest number of totalcases."
   ]
  },
  {
   "cell_type": "code",
   "execution_count": 5,
   "id": "012fb66f",
   "metadata": {},
   "outputs": [],
   "source": [
    "twitter_rdd = spark.sparkContext.textFile(\"/public/trendytech/covid19/states/covid_dataset_states.csv\")"
   ]
  },
  {
   "cell_type": "code",
   "execution_count": 6,
   "id": "6a3987f5",
   "metadata": {},
   "outputs": [
    {
     "data": {
      "text/plain": [
       "['HP,null,https://covid19.hp.gov.in/ ,https://covid-19archive.org/,https://www.azdhs.gov,@HPCovid,https://arcg.is/0brSGj,null,53,,',\n",
       " 'AS,null,https://covid19.hp.gov.in/ ,https://covid-19archive.org/,https://www.azdhs.gov,@ASCovid,null,null,6,null,null',\n",
       " 'HR,null,https://covid19.hp.gov.in/ ,https://covid-19archive.org/,https://www.azdhs.gov,@HRCovid,null,null,9,null,null',\n",
       " 'KA,null,https://covid19.hp.gov.in/ ,https://covid-19archive.org/,https://www.azdhs.gov,@KACovid,null,null,53,null,null',\n",
       " 'WA,null,https://covid19.hp.gov.in/ ,https://covid-19archive.org/,https://www.azdhs.gov,@WACovid,null,null,44,null,null',\n",
       " 'CG,null,https://covid19.hp.gov.in/ ,https://covid-19archive.org/,https://www.azdhs.gov,@CGCovid,null,null,53,null,null',\n",
       " 'BR,null,https://covid19.hp.gov.in/ ,https://covid-19archive.org/,https://www.azdhs.gov,@BRCovid,null,null,53,null,null',\n",
       " 'JH,null,https://covid19.hp.gov.in/ ,https://covid-19archive.org/,null,@JHCovid,null,null,53,null,null',\n",
       " 'GJ,null,https://covid19.hp.gov.in/ ,https://covid-19archive.org/,null,@GJCovid,null,null,44,null,null',\n",
       " 'MH,null,https://covid19.hp.gov.in/ ,https://covid-19archive.org/,null,@MHCovid,null,null,26,null,null',\n",
       " 'GA,null,https://covid19.hp.gov.in/ ,https://covid-19archive.org/,null,@GACovid,https://arcg.is/0brSGj,null,44,null,null',\n",
       " 'MI,null,https://covid19.hp.gov.in/ ,https://covid-19archive.org/,null,@MICovid,https://arcg.is/0brSGj,null,53,null,null',\n",
       " 'RI,null,https://covid19.hp.gov.in/ ,https://covid-19archive.org/,null,@RICovid,https://arcg.is/0brSGj,null,26,null,null',\n",
       " 'AZ,null,https://covid19.hp.gov.in/ ,https://covid-19archive.org/,null,@AZCovid,https://arcg.is/0brSGj,null,53,null,null',\n",
       " 'CA,null,https://covid19.hp.gov.in/ ,https://covid-19archive.org/,null,@CACovid,https://arcg.is/0brSGj,null,4,null,null',\n",
       " 'TN,null,https://covid19.hp.gov.in/ ,https://covid-19archive.org/,null,@CACovid,null,null,2,null,null']"
      ]
     },
     "execution_count": 6,
     "metadata": {},
     "output_type": "execute_result"
    }
   ],
   "source": [
    "twitter_rdd.take(20)"
   ]
  },
  {
   "cell_type": "code",
   "execution_count": 7,
   "id": "b9388600",
   "metadata": {},
   "outputs": [],
   "source": [
    "map_rdd = rdd.map(lambda x: (x.split(\",\")[1],int(x.split(\",\")[28])))"
   ]
  },
  {
   "cell_type": "code",
   "execution_count": 8,
   "id": "dafaba0f",
   "metadata": {},
   "outputs": [],
   "source": [
    "mapped_rdd = twitter_rdd.map(lambda x : (x.split(\",\")[0],(x.split(\",\")[5],int(x.split(\",\")[8]))))"
   ]
  },
  {
   "cell_type": "code",
   "execution_count": 9,
   "id": "a7d78a65",
   "metadata": {},
   "outputs": [
    {
     "data": {
      "text/plain": [
       "[('HP', ('@HPCovid', 53)),\n",
       " ('AS', ('@ASCovid', 6)),\n",
       " ('HR', ('@HRCovid', 9)),\n",
       " ('KA', ('@KACovid', 53)),\n",
       " ('WA', ('@WACovid', 44)),\n",
       " ('CG', ('@CGCovid', 53)),\n",
       " ('BR', ('@BRCovid', 53)),\n",
       " ('JH', ('@JHCovid', 53)),\n",
       " ('GJ', ('@GJCovid', 44)),\n",
       " ('MH', ('@MHCovid', 26))]"
      ]
     },
     "execution_count": 9,
     "metadata": {},
     "output_type": "execute_result"
    }
   ],
   "source": [
    "mapped_rdd.take(10)"
   ]
  },
  {
   "cell_type": "code",
   "execution_count": 10,
   "id": "ec9363ad",
   "metadata": {},
   "outputs": [],
   "source": [
    "total_count = map_rdd.reduceByKey(lambda x,y :x+y)"
   ]
  },
  {
   "cell_type": "code",
   "execution_count": 11,
   "id": "7f76dbc4",
   "metadata": {},
   "outputs": [
    {
     "data": {
      "text/plain": [
       "[('AP', 4),\n",
       " ('HP', 4),\n",
       " ('AS', 2),\n",
       " ('CG', 8),\n",
       " ('BR', 23),\n",
       " ('JH', 13),\n",
       " ('GJ', 35),\n",
       " ('MH', 730),\n",
       " ('RI', 16),\n",
       " ('CA', 515)]"
      ]
     },
     "execution_count": 11,
     "metadata": {},
     "output_type": "execute_result"
    }
   ],
   "source": [
    "total_count.take(10)"
   ]
  },
  {
   "cell_type": "code",
   "execution_count": 12,
   "id": "aeb73940",
   "metadata": {},
   "outputs": [],
   "source": [
    "join_rdd = total_count.join(mapped_rdd)"
   ]
  },
  {
   "cell_type": "code",
   "execution_count": 20,
   "id": "b211b0ad",
   "metadata": {},
   "outputs": [],
   "source": [
    "result1 = join_rdd.sortBy(lambda x :x[1][0], ascending=False)"
   ]
  },
  {
   "cell_type": "code",
   "execution_count": 21,
   "id": "9471c8c4",
   "metadata": {},
   "outputs": [
    {
     "data": {
      "text/plain": [
       "[('WA', (2100, ('@WACovid', 44))),\n",
       " ('GA', (1034, ('@GACovid', 44))),\n",
       " ('MH', (730, ('@MHCovid', 26))),\n",
       " ('CA', (515, ('@CACovid', 4))),\n",
       " ('MI', (61, ('@MICovid', 53))),\n",
       " ('GJ', (35, ('@GJCovid', 44))),\n",
       " ('AZ', (34, ('@AZCovid', 53))),\n",
       " ('BR', (23, ('@BRCovid', 53))),\n",
       " ('RI', (16, ('@RICovid', 26))),\n",
       " ('JH', (13, ('@JHCovid', 53)))]"
      ]
     },
     "execution_count": 21,
     "metadata": {},
     "output_type": "execute_result"
    }
   ],
   "source": [
    "result1.take(10)"
   ]
  },
  {
   "cell_type": "code",
   "execution_count": null,
   "id": "6804ba8a",
   "metadata": {},
   "outputs": [],
   "source": []
  }
 ],
 "metadata": {
  "kernelspec": {
   "display_name": "Pyspark 3",
   "language": "python",
   "name": "pyspark3"
  },
  "language_info": {
   "codemirror_mode": {
    "name": "ipython",
    "version": 3
   },
   "file_extension": ".py",
   "mimetype": "text/x-python",
   "name": "python",
   "nbconvert_exporter": "python",
   "pygments_lexer": "ipython3",
   "version": "3.6.12"
  }
 },
 "nbformat": 4,
 "nbformat_minor": 5
}
