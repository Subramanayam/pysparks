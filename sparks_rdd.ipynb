{
 "cells": [
  {
   "cell_type": "code",
   "execution_count": 1,
   "id": "4d60f169",
   "metadata": {},
   "outputs": [],
   "source": [
    "from pyspark.sql import SparkSession\n",
    "import getpass\n",
    "username = getpass.getuser()\n",
    "spark = SparkSession. \\\n",
    "        builder. \\\n",
    "        config('spark.ui.port','0'). \\\n",
    "        config(\"spark.sql.warehouse.dir\", f\"/user/itv013286/warehouse\"). \\\n",
    "        enableHiveSupport(). \\\n",
    "        master('yarn'). \\\n",
    "        getOrCreate()"
   ]
  },
  {
   "cell_type": "code",
   "execution_count": 2,
   "id": "07640577",
   "metadata": {},
   "outputs": [
    {
     "data": {
      "text/html": [
       "\n",
       "            <div>\n",
       "                <p><b>SparkSession - hive</b></p>\n",
       "                \n",
       "        <div>\n",
       "            <p><b>SparkContext</b></p>\n",
       "\n",
       "            <p><a href=\"http://g01.itversity.com:45565\">Spark UI</a></p>\n",
       "\n",
       "            <dl>\n",
       "              <dt>Version</dt>\n",
       "                <dd><code>v3.1.2</code></dd>\n",
       "              <dt>Master</dt>\n",
       "                <dd><code>yarn</code></dd>\n",
       "              <dt>AppName</dt>\n",
       "                <dd><code>pyspark-shell</code></dd>\n",
       "            </dl>\n",
       "        </div>\n",
       "        \n",
       "            </div>\n",
       "        "
      ],
      "text/plain": [
       "<pyspark.sql.session.SparkSession at 0x7fa0149b2630>"
      ]
     },
     "execution_count": 2,
     "metadata": {},
     "output_type": "execute_result"
    }
   ],
   "source": [
    "spark"
   ]
  },
  {
   "cell_type": "markdown",
   "id": "e6af2a7a",
   "metadata": {},
   "source": [
    "### weneed to consider 3 datasets\n",
    "#### orders\n",
    "#### ========\n",
    "#### order_id,order_date,order_customer_id,order_statuscustomers\n",
    "#### ==========\n",
    "#### customer_id,customer_fname,customer_lname,customer_email,customer_password,customer_street,customer_city,customer_state,customer_zipcodeorder_items\n",
    "#### ==============\n",
    "#### order_item_id,order_id,order_item_product_id,order_item_quantity,order_item_subtotal,order_item_product_price\n",
    "\n",
    "#### Note-onecustomercanhavemultipleordersintheordersdataset.oneordercanhavemultipleorder_itemsintheorder_itemstable1.\n",
    "\n",
    "#### 1.weneedtofindtop10customerswhohavespentthemostamount(premiumcustomers"
   ]
  },
  {
   "cell_type": "code",
   "execution_count": 3,
   "id": "89a273bd",
   "metadata": {},
   "outputs": [],
   "source": [
    "orders_rdd = spark.sparkContext.textFile(\"/public/trendytech/retail_db/orders/*\")"
   ]
  },
  {
   "cell_type": "code",
   "execution_count": 4,
   "id": "bcf5636c",
   "metadata": {},
   "outputs": [
    {
     "data": {
      "text/plain": [
       "['1,2013-07-25 00:00:00.0,11599,CLOSED',\n",
       " '2,2013-07-25 00:00:00.0,256,PENDING_PAYMENT',\n",
       " '3,2013-07-25 00:00:00.0,12111,COMPLETE',\n",
       " '4,2013-07-25 00:00:00.0,8827,CLOSED',\n",
       " '5,2013-07-25 00:00:00.0,11318,COMPLETE']"
      ]
     },
     "execution_count": 4,
     "metadata": {},
     "output_type": "execute_result"
    }
   ],
   "source": [
    "orders_rdd.take(5)"
   ]
  },
  {
   "cell_type": "code",
   "execution_count": 5,
   "id": "f2db0649",
   "metadata": {},
   "outputs": [],
   "source": [
    "orders_map = orders_rdd.map(lambda x :((int(x.split(\",\")[0]),int(x.split(\",\")[2]))))"
   ]
  },
  {
   "cell_type": "code",
   "execution_count": 6,
   "id": "36d74081",
   "metadata": {},
   "outputs": [
    {
     "data": {
      "text/plain": [
       "[(1, 11599), (2, 256), (3, 12111), (4, 8827), (5, 11318)]"
      ]
     },
     "execution_count": 6,
     "metadata": {},
     "output_type": "execute_result"
    }
   ],
   "source": [
    "orders_map.take(5)"
   ]
  },
  {
   "cell_type": "code",
   "execution_count": 5,
   "id": "3a6d24df",
   "metadata": {},
   "outputs": [],
   "source": [
    "order_items_rdd = spark.sparkContext.textFile(\"/public/trendytech/retail_db/order_items/*\")"
   ]
  },
  {
   "cell_type": "code",
   "execution_count": 6,
   "id": "0653b792",
   "metadata": {},
   "outputs": [],
   "source": [
    "order_items_map = order_items_rdd.map(lambda x :((int(x.split(\",\")[1])), float(x.split(\",\")[4]) ))"
   ]
  },
  {
   "cell_type": "code",
   "execution_count": 7,
   "id": "c36cbdc3",
   "metadata": {},
   "outputs": [
    {
     "data": {
      "text/plain": [
       "[(1, 299.98), (2, 199.99), (2, 250.0), (2, 129.99), (4, 49.98)]"
      ]
     },
     "execution_count": 7,
     "metadata": {},
     "output_type": "execute_result"
    }
   ],
   "source": [
    "order_items_map.take(5)"
   ]
  },
  {
   "cell_type": "code",
   "execution_count": 10,
   "id": "947d30a7",
   "metadata": {},
   "outputs": [],
   "source": [
    "join_rdd = order_items_map.join(orders_map)"
   ]
  },
  {
   "cell_type": "code",
   "execution_count": 11,
   "id": "28b6d534",
   "metadata": {},
   "outputs": [
    {
     "data": {
      "text/plain": [
       "[(4, (49.98, 8827)),\n",
       " (4, (299.95, 8827)),\n",
       " (4, (150.0, 8827)),\n",
       " (4, (199.92, 8827)),\n",
       " (8, (179.97, 2911))]"
      ]
     },
     "execution_count": 11,
     "metadata": {},
     "output_type": "execute_result"
    }
   ],
   "source": [
    "join_rdd.take(5)"
   ]
  },
  {
   "cell_type": "code",
   "execution_count": 12,
   "id": "e8e0e9a6",
   "metadata": {},
   "outputs": [],
   "source": [
    "join_map = join_rdd.map(lambda x:(x[1][1],x[1][0]))\n"
   ]
  },
  {
   "cell_type": "code",
   "execution_count": 13,
   "id": "7de279eb",
   "metadata": {},
   "outputs": [
    {
     "data": {
      "text/plain": [
       "[(791, 10524.169999999996),\n",
       " (9371, 9299.029999999999),\n",
       " (8766, 9296.14),\n",
       " (1657, 9223.71),\n",
       " (2641, 9130.92),\n",
       " (1288, 9019.11),\n",
       " (3710, 9019.099999999999),\n",
       " (4249, 8918.85),\n",
       " (5654, 8904.95),\n",
       " (5624, 8761.98)]"
      ]
     },
     "execution_count": 13,
     "metadata": {},
     "output_type": "execute_result"
    }
   ],
   "source": [
    "reduced_rdd=join_map.reduceByKey(lambda x,y:x+y).sortBy(lambda x:x[1],ascending=False)\n",
    "reduced_rdd.take(10)\n"
   ]
  },
  {
   "cell_type": "markdown",
   "id": "50798853",
   "metadata": {},
   "source": [
    "#### 2.top10 product id's with most quantities sold"
   ]
  },
  {
   "cell_type": "code",
   "execution_count": 22,
   "id": "baac7739",
   "metadata": {},
   "outputs": [],
   "source": [
    "order_itemsmap = order_items_rdd.map(lambda x : (int(x.split(\",\")[2]),int(x.split(\",\")[3])))"
   ]
  },
  {
   "cell_type": "code",
   "execution_count": 23,
   "id": "eb93ca52",
   "metadata": {},
   "outputs": [
    {
     "data": {
      "text/plain": [
       "[(957, 1), (1073, 1), (502, 5), (403, 1), (897, 2)]"
      ]
     },
     "execution_count": 23,
     "metadata": {},
     "output_type": "execute_result"
    }
   ],
   "source": [
    "order_itemsmap.take(5)"
   ]
  },
  {
   "cell_type": "code",
   "execution_count": 28,
   "id": "200f5933",
   "metadata": {},
   "outputs": [],
   "source": [
    "orders_item_reduce = order_itemsmap.reduceByKey(lambda x,y:x+y).sortBy(lambda x: x[1], ascending = False)"
   ]
  },
  {
   "cell_type": "code",
   "execution_count": 29,
   "id": "1f872249",
   "metadata": {},
   "outputs": [
    {
     "data": {
      "text/plain": [
       "[(365, 73698), (502, 62956), (1014, 57803), (191, 36680), (627, 31735)]"
      ]
     },
     "execution_count": 29,
     "metadata": {},
     "output_type": "execute_result"
    }
   ],
   "source": [
    "orders_item_reduce.take(5)"
   ]
  },
  {
   "cell_type": "markdown",
   "id": "28494fb0",
   "metadata": {},
   "source": [
    "### 3.how many customers are from Caguas city"
   ]
  },
  {
   "cell_type": "code",
   "execution_count": 8,
   "id": "d09b84d1",
   "metadata": {},
   "outputs": [],
   "source": [
    "customers_rdd = spark.sparkContext.textFile(\"/public/trendytech/retail_db/customers/*\")"
   ]
  },
  {
   "cell_type": "code",
   "execution_count": 9,
   "id": "5e8861fa",
   "metadata": {},
   "outputs": [
    {
     "data": {
      "text/plain": [
       "['1,Richard,Hernandez,XXXXXXXXX,XXXXXXXXX,6303 Heather Plaza,Brownsville,TX,78521',\n",
       " '2,Mary,Barrett,XXXXXXXXX,XXXXXXXXX,9526 Noble Embers Ridge,Littleton,CO,80126',\n",
       " '3,Ann,Smith,XXXXXXXXX,XXXXXXXXX,3422 Blue Pioneer Bend,Caguas,PR,00725',\n",
       " '4,Mary,Jones,XXXXXXXXX,XXXXXXXXX,8324 Little Common,San Marcos,CA,92069',\n",
       " '5,Robert,Hudson,XXXXXXXXX,XXXXXXXXX,\"10 Crystal River Mall \",Caguas,PR,00725']"
      ]
     },
     "execution_count": 9,
     "metadata": {},
     "output_type": "execute_result"
    }
   ],
   "source": [
    "customers_rdd.take(5)"
   ]
  },
  {
   "cell_type": "code",
   "execution_count": 34,
   "id": "2640bb76",
   "metadata": {},
   "outputs": [],
   "source": [
    "customer_map = customers_rdd.map(lambda x : x.split(\",\")[6])"
   ]
  },
  {
   "cell_type": "code",
   "execution_count": 35,
   "id": "234ceac0",
   "metadata": {},
   "outputs": [
    {
     "data": {
      "text/plain": [
       "['Brownsville', 'Littleton', 'Caguas', 'San Marcos', 'Caguas']"
      ]
     },
     "execution_count": 35,
     "metadata": {},
     "output_type": "execute_result"
    }
   ],
   "source": [
    "customer_map.take(5)"
   ]
  },
  {
   "cell_type": "code",
   "execution_count": 36,
   "id": "5e2b888d",
   "metadata": {},
   "outputs": [
    {
     "data": {
      "text/plain": [
       "4584"
      ]
     },
     "execution_count": 36,
     "metadata": {},
     "output_type": "execute_result"
    }
   ],
   "source": [
    "customer_map.filter(lambda x : x == 'Caguas').count()"
   ]
  },
  {
   "cell_type": "markdown",
   "id": "08535b41",
   "metadata": {},
   "source": [
    "#### Top3 states with maximum customers"
   ]
  },
  {
   "cell_type": "code",
   "execution_count": 42,
   "id": "9c9a40f4",
   "metadata": {},
   "outputs": [],
   "source": [
    "customerstatemap = customers_rdd.map(lambda x : (x.split(\",\")[7],1))"
   ]
  },
  {
   "cell_type": "code",
   "execution_count": 43,
   "id": "c3c50473",
   "metadata": {},
   "outputs": [
    {
     "data": {
      "text/plain": [
       "[('TX', 1), ('CO', 1), ('PR', 1), ('CA', 1), ('PR', 1)]"
      ]
     },
     "execution_count": 43,
     "metadata": {},
     "output_type": "execute_result"
    }
   ],
   "source": [
    "customerstatemap.take(5)"
   ]
  },
  {
   "cell_type": "code",
   "execution_count": 46,
   "id": "4b2caa68",
   "metadata": {},
   "outputs": [],
   "source": [
    "customerreduce = customerstatemap.reduceByKey(lambda x,y : x+y).sortBy(lambda x : x[1], ascending = False)"
   ]
  },
  {
   "cell_type": "code",
   "execution_count": 47,
   "id": "c3b4d0bb",
   "metadata": {},
   "outputs": [
    {
     "data": {
      "text/plain": [
       "[('PR', 4771), ('CA', 2012), ('NY', 775)]"
      ]
     },
     "execution_count": 47,
     "metadata": {},
     "output_type": "execute_result"
    }
   ],
   "source": [
    "customerreduce.take(3)"
   ]
  },
  {
   "cell_type": "markdown",
   "id": "dbf06d75",
   "metadata": {},
   "source": [
    "#### how many customers have spent more than $1000 in total"
   ]
  },
  {
   "cell_type": "code",
   "execution_count": 13,
   "id": "7b444c27",
   "metadata": {},
   "outputs": [],
   "source": [
    "orders_map = orders_rdd.map(lambda x : (int(x.split(\",\")[0]),int(x.split(\",\")[2])))"
   ]
  },
  {
   "cell_type": "code",
   "execution_count": 14,
   "id": "dc82bc88",
   "metadata": {},
   "outputs": [
    {
     "data": {
      "text/plain": [
       "[(1, 11599), (2, 256), (3, 12111), (4, 8827), (5, 11318)]"
      ]
     },
     "execution_count": 14,
     "metadata": {},
     "output_type": "execute_result"
    }
   ],
   "source": [
    "orders_map.take(5)"
   ]
  },
  {
   "cell_type": "code",
   "execution_count": 19,
   "id": "0810c04d",
   "metadata": {},
   "outputs": [],
   "source": [
    "order_items_map = order_items_rdd.map(lambda x: (int(x.split(\",\")[1]),float(x.split(\",\")[4])))"
   ]
  },
  {
   "cell_type": "code",
   "execution_count": 20,
   "id": "05e2b161",
   "metadata": {},
   "outputs": [
    {
     "data": {
      "text/plain": [
       "[(1, 299.98), (2, 199.99), (2, 250.0), (2, 129.99), (4, 49.98)]"
      ]
     },
     "execution_count": 20,
     "metadata": {},
     "output_type": "execute_result"
    }
   ],
   "source": [
    "order_items_map.take(5)"
   ]
  },
  {
   "cell_type": "code",
   "execution_count": 21,
   "id": "c069e4d5",
   "metadata": {},
   "outputs": [],
   "source": [
    "join = order_items_map.join(orders_map)"
   ]
  },
  {
   "cell_type": "code",
   "execution_count": 22,
   "id": "7c84b3eb",
   "metadata": {},
   "outputs": [
    {
     "data": {
      "text/plain": [
       "[(35212, (49.98, 8774)),\n",
       " (35212, (299.97, 8774)),\n",
       " (35212, (249.9, 8774)),\n",
       " (35212, (49.98, 8774)),\n",
       " (35212, (149.94, 8774))]"
      ]
     },
     "execution_count": 22,
     "metadata": {},
     "output_type": "execute_result"
    }
   ],
   "source": [
    "join.take(5)"
   ]
  },
  {
   "cell_type": "code",
   "execution_count": 24,
   "id": "effbd605",
   "metadata": {},
   "outputs": [],
   "source": [
    "join_map = join.map(lambda x : (x[1][1],x[1][0]))"
   ]
  },
  {
   "cell_type": "code",
   "execution_count": 25,
   "id": "e847f6ed",
   "metadata": {},
   "outputs": [
    {
     "data": {
      "text/plain": [
       "[(8827, 49.98), (8827, 299.95), (8827, 150.0), (8827, 199.92), (2911, 179.97)]"
      ]
     },
     "execution_count": 25,
     "metadata": {},
     "output_type": "execute_result"
    }
   ],
   "source": [
    "join_map.take(5)"
   ]
  },
  {
   "cell_type": "code",
   "execution_count": 26,
   "id": "23ba209b",
   "metadata": {},
   "outputs": [],
   "source": [
    "joinreduce = join_map.reduceByKey(lambda x,y : x+y)"
   ]
  },
  {
   "cell_type": "code",
   "execution_count": 30,
   "id": "20ac4712",
   "metadata": {},
   "outputs": [],
   "source": [
    "result = joinreduce.filter(lambda x :x[1]>1000)"
   ]
  },
  {
   "cell_type": "code",
   "execution_count": 31,
   "id": "93db16c5",
   "metadata": {},
   "outputs": [
    {
     "data": {
      "text/plain": [
       "11148"
      ]
     },
     "execution_count": 31,
     "metadata": {},
     "output_type": "execute_result"
    }
   ],
   "source": [
    "result.count()"
   ]
  },
  {
   "cell_type": "markdown",
   "id": "bd7f16db",
   "metadata": {},
   "source": [
    "#### which state has most number of orders in CLOSEDs tatus"
   ]
  },
  {
   "cell_type": "code",
   "execution_count": 36,
   "id": "d8e3dfe4",
   "metadata": {},
   "outputs": [],
   "source": [
    "orders_map = orders_rdd.map(lambda x : (int(x.split(\",\")[2]),x.split(\",\")[3])).filter(lambda x :x[1]=='CLOSED')"
   ]
  },
  {
   "cell_type": "code",
   "execution_count": 37,
   "id": "2d8129c3",
   "metadata": {},
   "outputs": [
    {
     "data": {
      "text/plain": [
       "[(11599, 'CLOSED'),\n",
       " (8827, 'CLOSED'),\n",
       " (1837, 'CLOSED'),\n",
       " (1205, 'CLOSED'),\n",
       " (11441, 'CLOSED')]"
      ]
     },
     "execution_count": 37,
     "metadata": {},
     "output_type": "execute_result"
    }
   ],
   "source": [
    "orders_map.take(5)"
   ]
  },
  {
   "cell_type": "code",
   "execution_count": 42,
   "id": "7cc37d33",
   "metadata": {},
   "outputs": [],
   "source": [
    "customers_map = customers_rdd.map(lambda x:(int(x.split(',')[0]),x.split(',')[7]))"
   ]
  },
  {
   "cell_type": "code",
   "execution_count": 43,
   "id": "0adb74f9",
   "metadata": {},
   "outputs": [],
   "source": [
    "join = customers_map.join(orders_map)"
   ]
  },
  {
   "cell_type": "code",
   "execution_count": 44,
   "id": "f70ea737",
   "metadata": {},
   "outputs": [
    {
     "data": {
      "text/plain": [
       "[(4, ('CA', 'CLOSED')),\n",
       " (8, ('MA', 'CLOSED')),\n",
       " (12, ('TX', 'CLOSED')),\n",
       " (16, ('PR', 'CLOSED')),\n",
       " (20, ('NJ', 'CLOSED'))]"
      ]
     },
     "execution_count": 44,
     "metadata": {},
     "output_type": "execute_result"
    }
   ],
   "source": [
    "join.take(5)"
   ]
  },
  {
   "cell_type": "code",
   "execution_count": 50,
   "id": "1ef62cd2",
   "metadata": {},
   "outputs": [],
   "source": [
    "join_map = join.map(lambda x: (x[1][0],1))"
   ]
  },
  {
   "cell_type": "code",
   "execution_count": 51,
   "id": "9d0bbf4f",
   "metadata": {},
   "outputs": [
    {
     "data": {
      "text/plain": [
       "[('CA', 1), ('MA', 1), ('TX', 1), ('PR', 1), ('NJ', 1)]"
      ]
     },
     "execution_count": 51,
     "metadata": {},
     "output_type": "execute_result"
    }
   ],
   "source": [
    "join_map.take(5)"
   ]
  },
  {
   "cell_type": "code",
   "execution_count": 55,
   "id": "76a7844e",
   "metadata": {},
   "outputs": [],
   "source": [
    "join_reduce = join_map.reduceByKey(lambda x,y : x+y).sortBy(lambda x :x[1], ascending = False)"
   ]
  },
  {
   "cell_type": "code",
   "execution_count": 56,
   "id": "e2900f83",
   "metadata": {},
   "outputs": [
    {
     "data": {
      "text/plain": [
       "[('PR', 2891), ('CA', 1232), ('NY', 450), ('TX', 403), ('IL', 313)]"
      ]
     },
     "execution_count": 56,
     "metadata": {},
     "output_type": "execute_result"
    }
   ],
   "source": [
    "join_reduce.take(5)"
   ]
  },
  {
   "cell_type": "markdown",
   "id": "3a6e1302",
   "metadata": {},
   "source": [
    "#### how many customers are active(active customers are the one's who placed atleast one order)"
   ]
  },
  {
   "cell_type": "code",
   "execution_count": 57,
   "id": "7e4b4321",
   "metadata": {},
   "outputs": [],
   "source": [
    "orders_map = orders_rdd.map(lambda x : (x.split(\",\")[2],1))"
   ]
  },
  {
   "cell_type": "code",
   "execution_count": 58,
   "id": "74527485",
   "metadata": {},
   "outputs": [],
   "source": [
    "ordersreduce = orders_map.reduceByKey(lambda x,y : x+y)"
   ]
  },
  {
   "cell_type": "code",
   "execution_count": 60,
   "id": "16d67a63",
   "metadata": {},
   "outputs": [
    {
     "data": {
      "text/plain": [
       "12405"
      ]
     },
     "execution_count": 60,
     "metadata": {},
     "output_type": "execute_result"
    }
   ],
   "source": [
    "ordersreduce.filter(lambda x : x[1]>=1).count()"
   ]
  },
  {
   "cell_type": "markdown",
   "id": "9afc0411",
   "metadata": {},
   "source": [
    "### What is the revenue generate dby each state in sorted order."
   ]
  },
  {
   "cell_type": "code",
   "execution_count": 10,
   "id": "2825e756",
   "metadata": {},
   "outputs": [],
   "source": [
    "orders_map = orders_rdd.map(lambda x :(int(x.split(\",\")[2]),int(x.split(\",\")[0])))"
   ]
  },
  {
   "cell_type": "code",
   "execution_count": 11,
   "id": "717578ea",
   "metadata": {},
   "outputs": [],
   "source": [
    "customrt_map = customers_rdd.map(lambda x:(int(x.split(',')[0]),x.split(',')[7]))"
   ]
  },
  {
   "cell_type": "code",
   "execution_count": 12,
   "id": "0b89cbcf",
   "metadata": {},
   "outputs": [],
   "source": [
    "join_rdd = customrt_map.join(orders_map)"
   ]
  },
  {
   "cell_type": "code",
   "execution_count": 13,
   "id": "2a2cea11",
   "metadata": {},
   "outputs": [
    {
     "data": {
      "text/plain": [
       "[(4, ('CA', 9023)),\n",
       " (4, ('CA', 9704)),\n",
       " (4, ('CA', 17253)),\n",
       " (4, ('CA', 37878)),\n",
       " (4, ('CA', 49339))]"
      ]
     },
     "execution_count": 13,
     "metadata": {},
     "output_type": "execute_result"
    }
   ],
   "source": [
    "join_rdd.take(5)"
   ]
  },
  {
   "cell_type": "code",
   "execution_count": 14,
   "id": "3e05ac79",
   "metadata": {},
   "outputs": [],
   "source": [
    "join_map = join_rdd.map(lambda x : (x[1][0], x[1][1]))"
   ]
  },
  {
   "cell_type": "code",
   "execution_count": 15,
   "id": "75a76bb5",
   "metadata": {},
   "outputs": [
    {
     "data": {
      "text/plain": [
       "[('CA', 9023), ('CA', 9704), ('CA', 17253), ('CA', 37878), ('CA', 49339)]"
      ]
     },
     "execution_count": 15,
     "metadata": {},
     "output_type": "execute_result"
    }
   ],
   "source": [
    "join_map.take(5)"
   ]
  },
  {
   "cell_type": "code",
   "execution_count": 25,
   "id": "0247ea11",
   "metadata": {},
   "outputs": [],
   "source": [
    "order_items_map=order_items_rdd.map(lambda x:(int(x.split(',')[1]),float(x.split(',')[4])))"
   ]
  },
  {
   "cell_type": "code",
   "execution_count": 26,
   "id": "02bb43c7",
   "metadata": {},
   "outputs": [
    {
     "data": {
      "text/plain": [
       "[(1, 299.98), (2, 199.99), (2, 250.0), (2, 129.99), (4, 49.98)]"
      ]
     },
     "execution_count": 26,
     "metadata": {},
     "output_type": "execute_result"
    }
   ],
   "source": [
    "order_items_map.take(5)"
   ]
  },
  {
   "cell_type": "code",
   "execution_count": 33,
   "id": "de9b46b7",
   "metadata": {},
   "outputs": [],
   "source": [
    "join_new = join_map.join(order_items_map)"
   ]
  },
  {
   "cell_type": "code",
   "execution_count": null,
   "id": "41abb1fd",
   "metadata": {},
   "outputs": [],
   "source": [
    "reduced_rdd=join_new_rdd.map(lambda x:(x[1][0],x[1][1])).reduceByKey(lambda x,y:x+y)\n",
    "final_rdd=reduced_rdd.sortBy(lambda x:x[1],ascending=False)\n",
    "final_rdd.collect()\n"
   ]
  }
 ],
 "metadata": {
  "kernelspec": {
   "display_name": "Pyspark 3",
   "language": "python",
   "name": "pyspark3"
  },
  "language_info": {
   "codemirror_mode": {
    "name": "ipython",
    "version": 3
   },
   "file_extension": ".py",
   "mimetype": "text/x-python",
   "name": "python",
   "nbconvert_exporter": "python",
   "pygments_lexer": "ipython3",
   "version": "3.6.12"
  }
 },
 "nbformat": 4,
 "nbformat_minor": 5
}
